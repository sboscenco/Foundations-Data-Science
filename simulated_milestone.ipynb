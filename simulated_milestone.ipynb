{
 "cells": [
  {
   "cell_type": "code",
   "execution_count": 1,
   "id": "975a9513",
   "metadata": {},
   "outputs": [],
   "source": [
    "import pandas as pd\n",
    "import numpy as np\n",
    "from sklearn.decomposition import PCA\n",
    "from sklearn.decomposition import NMF\n",
    "import matplotlib.pyplot as plt\n",
    "import seaborn as sns\n",
    "import pyro\n",
    "import torch\n",
    "import logging\n",
    "import os\n",
    "\n",
    "import pyro.distributions as dist\n",
    "from pyro.infer import SVI, Trace_ELBO\n",
    "from pyro.optim import Adam"
   ]
  },
  {
   "cell_type": "code",
   "execution_count": 2,
   "id": "ad85712d",
   "metadata": {},
   "outputs": [],
   "source": [
    "# Create simulated data \n",
    "\n",
    "def simulate_data(num_samples = 1000, num_metabolites = 50, num_batches = 5, lambda_base = 30000):\n",
    "    \n",
    "    data_np = np.random.poisson(lambda_base, (num_samples, num_metabolites))\n",
    "\n",
    "    # introduce missingness in batches \n",
    "    batch_size = num_samples // num_batches\n",
    "    for batch_idx in range(num_batches):\n",
    "        affected_metabolites = np.random.choice(range(num_metabolites), size=num_metabolites // 10, replace=False)\n",
    "    \n",
    "        # Set the counts of the affected metabolites to zero in the current batch\n",
    "        start_idx = batch_idx * batch_size\n",
    "        end_idx = (batch_idx + 1) * batch_size if batch_idx < num_batches - 1 else num_samples\n",
    "        data_np[start_idx:end_idx, affected_metabolites] = 0\n",
    "    \n",
    "    data = torch.tensor(data_np, dtype=torch.float32)\n",
    "    \n",
    "    return data\n"
   ]
  },
  {
   "cell_type": "code",
   "execution_count": 123,
   "id": "2aa5a97f",
   "metadata": {},
   "outputs": [],
   "source": [
    "# Define the dimensions\n",
    "\n",
    "#num_samples = len(metabolomics_data)\n",
    "#num_metabolites = len(metabolomics_data.columns)\n",
    "\n",
    "def model(data):\n",
    "    \n",
    "    #W_prior = dist.Normal(torch.zeros(num_samples, 1), \n",
    "     #                     torch.ones(num_samples, 1)).to_event(2)\n",
    "    \n",
    "    #H_prior = dist.Normal(torch.zeros(1, num_metabolites), \n",
    "    #                      torch.ones(1, num_metabolites)).to_event(2)\n",
    "    \n",
    "    W_prior = dist.HalfNormal(torch.ones(num_samples, 1)).to_event(2)\n",
    "    H_prior = dist.HalfNormal(torch.ones(1, num_metabolites)).to_event(2)\n",
    "    \n",
    "   # W_prior = dist.LogNormal(torch.zeros(num_samples, 1), torch.ones(num_samples, 1)).to_event(2)\n",
    "   # H_prior = dist.LogNormal(torch.zeros(1, num_metabolites), torch.ones(1, num_metabolites)).to_event(2)\n",
    "    \n",
    "    # Priors over Beta (batch effects)\n",
    "    #Beta_prior = dist.Normal(torch.zeros(num_samples, num_metabolites), \n",
    "    #                         torch.ones(num_samples, num_metabolites)).to_event(2)\n",
    "    \n",
    "    \n",
    "    Beta_prior = dist.Normal(loc=torch.zeros(num_samples, num_metabolites), \n",
    "                                scale=torch.ones(num_samples, num_metabolites)).to_event(2)\n",
    "    \n",
    "    # Sample from the priors\n",
    "    W = pyro.sample(\"W\", W_prior)\n",
    "    H = pyro.sample(\"H\", H_prior)\n",
    "    Beta = pyro.sample(\"Beta\", Beta_prior)\n",
    "\n",
    "    # The mean parameter for the Poisson distribution\n",
    "    lambda_ = torch.exp(torch.matmul(W, H) + Beta)\n",
    "    \n",
    "    # Observed data likelihood\n",
    "    with pyro.plate(\"data\", data.shape[0], dim=-2):\n",
    "        with pyro.plate(\"features\", data.shape[1], dim=-1):\n",
    "            pyro.sample(\"obs\", dist.Poisson(lambda_), obs=data)\n",
    "\n"
   ]
  },
  {
   "cell_type": "code",
   "execution_count": 150,
   "id": "f816f9a0",
   "metadata": {},
   "outputs": [],
   "source": [
    "def guide(data):\n",
    "\n",
    "    # Variational parameters for W and H\n",
    "    #latent_dim = 1\n",
    "    \n",
    "    # Variational parameters for W and H\n",
    "    W_scale = pyro.param(\"W_scale\", torch.ones(num_samples, 1), constraint=dist.constraints.positive)\n",
    "    H_scale = pyro.param(\"H_scale\", torch.ones(1, num_metabolites), constraint=dist.constraints.positive)\n",
    "    \n",
    "    # Variational parameters for Beta\n",
    "    Beta_loc = pyro.param(\"Beta_loc\", torch.zeros(num_samples, num_metabolites))\n",
    "    Beta_scale = pyro.param(\"Beta_scale\", torch.ones(num_samples, num_metabolites), constraint=dist.constraints.positive)\n",
    "    \n",
    "   \n",
    "    #sample_means = torch.tensor(np.mean(data.numpy(), axis=1, keepdims=True))\n",
    "    #metabolite_means = torch.tensor(np.mean(data.numpy(), axis=0, keepdims=True))\n",
    "    W_loc = pyro.param(\"W_loc\", 0.01 * torch.randn(num_samples, 1))\n",
    "    H_loc = pyro.param(\"H_loc\", 0.01 * torch.randn(1, num_metabolites))\n",
    "\n",
    "    #W_loc = pyro.param(\"W_loc\", torch.zeros(num_samples, 1))\n",
    "    #W_scale = pyro.param(\"W_scale\", torch.ones(num_samples, 1), constraint=dist.constraints.positive)\n",
    "    #H_loc = pyro.param(\"H_loc\", torch.zeros(1, num_metabolites))\n",
    "    #H_scale = pyro.param(\"H_scale\", torch.ones(1, num_metabolites), constraint=dist.constraints.positive)\n",
    "    \n",
    "    # Variational parameters for Beta\n",
    "    #Beta_loc = pyro.param(\"Beta_loc\", torch.rand(num_samples, num_metabolites))\n",
    "    #Beta_scale = pyro.param(\"Beta_scale\", torch.ones(num_samples, num_metabolites), constraint=dist.constraints.positive)\n",
    "    \n",
    "     # Variational distributions\n",
    "    pyro.sample(\"W\", dist.HalfNormal(W_scale).to_event(2))\n",
    "    pyro.sample(\"H\", dist.HalfNormal(H_scale).to_event(2))\n",
    "    pyro.sample(\"Beta\", dist.Normal(Beta_loc, Beta_scale).to_event(2))\n",
    "    \n",
    "    # Variational distributions\n",
    "    #pyro.sample(\"W\", dist.HalfNormal(W_loc, W_scale).to_event(2))\n",
    "    #pyro.sample(\"H\", dist.HalfNormal(H_loc, H_scale).to_event(2))\n",
    "    #pyro.sample(\"Beta\", dist.LogNormal(Beta_loc, Beta_scale).to_event(2))"
   ]
  },
  {
   "cell_type": "code",
   "execution_count": 144,
   "id": "8154e6a4",
   "metadata": {},
   "outputs": [],
   "source": [
    "def learn():\n",
    "    \n",
    "    # Setup the optimizer\n",
    "    adam_params = {\"lr\": 0.001, \"betas\": (0.90, 0.999)}\n",
    "    optimizer = Adam(adam_params)\n",
    "\n",
    "    # Setup the inference algorithm\n",
    "    svi = SVI(model, guide, optimizer, loss=Trace_ELBO())\n",
    "\n",
    "    # The training loop\n",
    "    num_iterations = 10000\n",
    "    losses = []  # Store the losses here\n",
    "    \n",
    "    for j in range(num_iterations):\n",
    "        # Calculate the loss and take a gradient step\n",
    "        loss = svi.step(data)\n",
    "        losses.append(loss)\n",
    "        #if j % 100 == 0:\n",
    "        #    print(f\"Iteration {j} : loss = {loss}\")\n",
    "        if j % 100 == 0:\n",
    "            print(f\"Iteration {j} : loss = {loss}\")\n",
    "            W_learned = pyro.param(\"W_scale\")\n",
    "            H_learned = pyro.param(\"H_scale\")\n",
    "            Beta_learned = pyro.param(\"Beta_loc\")\n",
    "            print(f\"W_learned mean: {W_learned.mean()}, std: {W_learned.std()}\")\n",
    "            print(f\"H_learned mean: {H_learned.mean()}, std: {H_learned.std()}\")\n",
    "            print(f\"Beta_learned mean: {Beta_learned.mean()}, std: {Beta_learned.std()}\")\n",
    "\n",
    "    # After training, you may want to retrieve the learned embeddings and Beta matrix\n",
    "    W_learned = pyro.param(\"W_loc\")\n",
    "    H_learned = pyro.param(\"H_loc\")\n",
    "    Beta_learned = pyro.param(\"Beta_loc\")\n",
    "    \n",
    "    plt.plot(losses)\n",
    "    plt.title('SVI Loss During Training')\n",
    "    plt.xlabel('Iteration')\n",
    "    plt.ylabel('Loss')\n",
    "    plt.show()\n",
    "    \n",
    "    return(W_learned, H_learned, Beta_learned)"
   ]
  },
  {
   "cell_type": "code",
   "execution_count": 46,
   "id": "cfca2f12",
   "metadata": {},
   "outputs": [
    {
     "data": {
      "text/plain": [
       "tensor([[30319., 30071., 30117.,  ..., 29994.,     0., 30247.],\n",
       "        [29986., 30035., 30220.,  ..., 29971.,     0., 30056.],\n",
       "        [30104., 30184., 29780.,  ..., 29789.,     0., 29784.],\n",
       "        ...,\n",
       "        [30035., 29898., 29972.,  ...,     0., 30256., 29984.],\n",
       "        [29962., 30091., 30007.,  ...,     0., 29986., 29919.],\n",
       "        [29850., 29988., 29965.,  ...,     0., 29973., 30149.]])"
      ]
     },
     "execution_count": 46,
     "metadata": {},
     "output_type": "execute_result"
    }
   ],
   "source": [
    "data = simulate_data()\n",
    "data"
   ]
  },
  {
   "cell_type": "code",
   "execution_count": 70,
   "id": "4996d20a",
   "metadata": {},
   "outputs": [],
   "source": [
    "metadata_metabolomics = pd.read_csv(\"~/Desktop/reznik/metabolomics/metadata.csv\", index_col = 0)\n",
    "metadata_sub = metadata_metabolomics[metadata_metabolomics['Isotope_Label'].isna()]\n",
    "metadata_batch = metadata_sub.iloc[:,-1:]\n",
    "#batch_labels = metadata_batch.to_numpy()\n",
    "batch_labels = np.asarray(metadata_batch).T"
   ]
  },
  {
   "cell_type": "code",
   "execution_count": null,
   "id": "1ce2ad66",
   "metadata": {},
   "outputs": [],
   "source": []
  },
  {
   "cell_type": "code",
   "execution_count": 47,
   "id": "2e060c64",
   "metadata": {},
   "outputs": [
    {
     "data": {
      "text/plain": [
       "tensor([[26.,  0., 15.,  ..., 31., 28., 21.],\n",
       "        [25.,  0., 14.,  ..., 31., 28., 20.],\n",
       "        [26.,  0., 15.,  ..., 31., 28., 20.],\n",
       "        ...,\n",
       "        [ 0.,  0.,  0.,  ..., 30.,  0., 13.],\n",
       "        [ 0.,  0.,  0.,  ..., 29.,  0., 13.],\n",
       "        [ 0.,  0.,  0.,  ..., 30.,  0., 14.]])"
      ]
     },
     "execution_count": 47,
     "metadata": {},
     "output_type": "execute_result"
    }
   ],
   "source": [
    "data_np = pd.read_csv(\"~/Desktop/reznik/metabolomics/master_file_metabolomics.csv\", index_col = 0)\n",
    "percent_missing = data_np.isnull().mean() * 100\n",
    "filtered_df = data_np.loc[:, percent_missing <= 50]\n",
    "filtered_df = filtered_df.replace(np.nan, 0)\n",
    "data = torch.tensor(filtered_df.values, dtype=torch.float32).round()\n",
    "data"
   ]
  },
  {
   "cell_type": "code",
   "execution_count": 48,
   "id": "a2c7e85f",
   "metadata": {},
   "outputs": [
    {
     "data": {
      "text/plain": [
       "35"
      ]
     },
     "execution_count": 48,
     "metadata": {},
     "output_type": "execute_result"
    }
   ],
   "source": [
    "num_samples = data.shape[0]\n",
    "num_metabolites = data.shape[1]\n",
    "num_metabolites"
   ]
  },
  {
   "cell_type": "code",
   "execution_count": 151,
   "id": "57e89eb1",
   "metadata": {},
   "outputs": [
    {
     "name": "stdout",
     "output_type": "stream",
     "text": [
      "Iteration 0 : loss = 1579359.75\n",
      "W_learned mean: 1.0007511377334595, std: 0.0006609681877307594\n",
      "H_learned mean: 1.0007718801498413, std: 0.0006456166156567633\n",
      "Beta_learned mean: 0.0006536605069413781, std: 0.0007567978464066982\n",
      "Iteration 100 : loss = 1516100.3678627014\n",
      "W_learned mean: 1.0095573663711548, std: 0.019206803292036057\n",
      "H_learned mean: 0.9990735650062561, std: 0.013482891023159027\n",
      "Beta_learned mean: 0.055701952427625656, std: 0.05171329528093338\n",
      "Iteration 200 : loss = 1425229.8848190308\n",
      "W_learned mean: 1.0028022527694702, std: 0.022116644307971\n",
      "H_learned mean: 0.9872332811355591, std: 0.014634865336120129\n",
      "Beta_learned mean: 0.10295015573501587, std: 0.0947030559182167\n",
      "Iteration 300 : loss = 1469377.9488315582\n",
      "W_learned mean: 0.9976063966751099, std: 0.023971209302544594\n",
      "H_learned mean: 0.9799339175224304, std: 0.016700105741620064\n",
      "Beta_learned mean: 0.1468803882598877, std: 0.13353952765464783\n",
      "Iteration 400 : loss = 1411953.0596504211\n",
      "W_learned mean: 0.992195188999176, std: 0.02495976723730564\n",
      "H_learned mean: 0.9736214876174927, std: 0.018485568463802338\n",
      "Beta_learned mean: 0.1879088133573532, std: 0.16991066932678223\n",
      "Iteration 500 : loss = 1307291.202802658\n",
      "W_learned mean: 0.9866687655448914, std: 0.02579117938876152\n",
      "H_learned mean: 0.966827929019928, std: 0.021297836676239967\n",
      "Beta_learned mean: 0.22661113739013672, std: 0.2037642002105713\n",
      "Iteration 600 : loss = 1412578.0272922516\n",
      "W_learned mean: 0.982077956199646, std: 0.026628781110048294\n",
      "H_learned mean: 0.9624238014221191, std: 0.02335807867348194\n",
      "Beta_learned mean: 0.26371994614601135, std: 0.2357737123966217\n",
      "Iteration 700 : loss = 1341374.0350074768\n",
      "W_learned mean: 0.9782523512840271, std: 0.027476847171783447\n",
      "H_learned mean: 0.9589521288871765, std: 0.023651303723454475\n",
      "Beta_learned mean: 0.2992278039455414, std: 0.26627182960510254\n",
      "Iteration 800 : loss = 1284953.1592788696\n",
      "W_learned mean: 0.974014937877655, std: 0.028128216043114662\n",
      "H_learned mean: 0.9561641216278076, std: 0.02498476393520832\n",
      "Beta_learned mean: 0.3330628573894501, std: 0.29597777128219604\n",
      "Iteration 900 : loss = 1233585.0029468536\n",
      "W_learned mean: 0.9685525298118591, std: 0.02893543429672718\n",
      "H_learned mean: 0.9525609612464905, std: 0.025576051324605942\n",
      "Beta_learned mean: 0.36519113183021545, std: 0.3239266276359558\n",
      "Iteration 1000 : loss = 1432874.3413619995\n",
      "W_learned mean: 0.9628272652626038, std: 0.02978011965751648\n",
      "H_learned mean: 0.9464361071586609, std: 0.027928194031119347\n",
      "Beta_learned mean: 0.39584243297576904, std: 0.35051387548446655\n",
      "Iteration 1100 : loss = 1276777.659751892\n",
      "W_learned mean: 0.9595724940299988, std: 0.03050556220114231\n",
      "H_learned mean: 0.9424334764480591, std: 0.028477564454078674\n",
      "Beta_learned mean: 0.4264664649963379, std: 0.3764267861843109\n",
      "Iteration 1200 : loss = 1235928.6990470886\n",
      "W_learned mean: 0.952468752861023, std: 0.031450048089027405\n",
      "H_learned mean: 0.9362757802009583, std: 0.030477534979581833\n",
      "Beta_learned mean: 0.4552522897720337, std: 0.4010904133319855\n",
      "Iteration 1300 : loss = 1269835.2378311157\n",
      "W_learned mean: 0.9483466744422913, std: 0.03248453512787819\n",
      "H_learned mean: 0.9310190677642822, std: 0.03259539604187012\n",
      "Beta_learned mean: 0.4831584393978119, std: 0.4247928857803345\n",
      "Iteration 1400 : loss = 1144970.6707611084\n",
      "W_learned mean: 0.9452969431877136, std: 0.032704051584005356\n",
      "H_learned mean: 0.9284070730209351, std: 0.03361783176660538\n",
      "Beta_learned mean: 0.5106487274169922, std: 0.4480312764644623\n",
      "Iteration 1500 : loss = 1115207.1094226837\n",
      "W_learned mean: 0.9423719644546509, std: 0.033176273107528687\n",
      "H_learned mean: 0.9258658289909363, std: 0.034330934286117554\n",
      "Beta_learned mean: 0.5380184650421143, std: 0.47047606110572815\n",
      "Iteration 1600 : loss = 1237298.9601230621\n",
      "W_learned mean: 0.9377161860466003, std: 0.03401840850710869\n",
      "H_learned mean: 0.9198734760284424, std: 0.03677792102098465\n",
      "Beta_learned mean: 0.5633999705314636, std: 0.4920644462108612\n",
      "Iteration 1700 : loss = 1100250.3892612457\n",
      "W_learned mean: 0.9337785840034485, std: 0.03437695652246475\n",
      "H_learned mean: 0.9159505367279053, std: 0.03796129301190376\n",
      "Beta_learned mean: 0.5891997814178467, std: 0.5131027102470398\n",
      "Iteration 1800 : loss = 1098673.9994487762\n",
      "W_learned mean: 0.9301825761795044, std: 0.03472622111439705\n",
      "H_learned mean: 0.9129099249839783, std: 0.039347127079963684\n",
      "Beta_learned mean: 0.6142635345458984, std: 0.5335198640823364\n",
      "Iteration 1900 : loss = 1029521.2312412262\n",
      "W_learned mean: 0.9272179007530212, std: 0.03525061160326004\n",
      "H_learned mean: 0.9101817011833191, std: 0.03992772847414017\n",
      "Beta_learned mean: 0.6387983560562134, std: 0.5533720254898071\n",
      "Iteration 2000 : loss = 1055003.1645765305\n",
      "W_learned mean: 0.9238648414611816, std: 0.03594248741865158\n",
      "H_learned mean: 0.9064034819602966, std: 0.04080437123775482\n",
      "Beta_learned mean: 0.6630504131317139, std: 0.5725080966949463\n",
      "Iteration 2100 : loss = 968063.1219997406\n",
      "W_learned mean: 0.9204427599906921, std: 0.036352500319480896\n",
      "H_learned mean: 0.9030122756958008, std: 0.041106559336185455\n",
      "Beta_learned mean: 0.6872036457061768, std: 0.5914223194122314\n",
      "Iteration 2200 : loss = 1201911.3547344208\n",
      "W_learned mean: 0.9166574478149414, std: 0.03694529831409454\n",
      "H_learned mean: 0.8998704552650452, std: 0.04017191380262375\n",
      "Beta_learned mean: 0.7106772065162659, std: 0.6098222136497498\n",
      "Iteration 2300 : loss = 906959.2821884155\n",
      "W_learned mean: 0.9127585291862488, std: 0.037777844816446304\n",
      "H_learned mean: 0.8966174721717834, std: 0.04107077792286873\n",
      "Beta_learned mean: 0.7329088449478149, std: 0.6274639964103699\n",
      "Iteration 2400 : loss = 941312.3938293457\n",
      "W_learned mean: 0.9101547002792358, std: 0.038279447704553604\n",
      "H_learned mean: 0.8940973877906799, std: 0.04138434678316116\n",
      "Beta_learned mean: 0.756043553352356, std: 0.6450732350349426\n",
      "Iteration 2500 : loss = 950992.9710216522\n",
      "W_learned mean: 0.9073543548583984, std: 0.03888620063662529\n",
      "H_learned mean: 0.8912949562072754, std: 0.042094890028238297\n",
      "Beta_learned mean: 0.7785675525665283, std: 0.6623170971870422\n",
      "Iteration 2600 : loss = 878097.8707065582\n",
      "W_learned mean: 0.9043866395950317, std: 0.03932005912065506\n",
      "H_learned mean: 0.8885160684585571, std: 0.04344789311289787\n",
      "Beta_learned mean: 0.8002259731292725, std: 0.6790952682495117\n",
      "Iteration 2700 : loss = 892702.9767932892\n",
      "W_learned mean: 0.9008142352104187, std: 0.04008471593260765\n",
      "H_learned mean: 0.8854276537895203, std: 0.04379776120185852\n",
      "Beta_learned mean: 0.8218249082565308, std: 0.6954293847084045\n",
      "Iteration 2800 : loss = 1001589.6565322876\n",
      "W_learned mean: 0.8982172012329102, std: 0.04070061445236206\n",
      "H_learned mean: 0.8831637501716614, std: 0.04519257694482803\n",
      "Beta_learned mean: 0.8433884978294373, std: 0.7117232084274292\n",
      "Iteration 2900 : loss = 840064.9975204468\n",
      "W_learned mean: 0.8945083022117615, std: 0.04140561819076538\n",
      "H_learned mean: 0.8797712922096252, std: 0.04643482714891434\n",
      "Beta_learned mean: 0.8638692498207092, std: 0.7273069024085999\n",
      "Iteration 3000 : loss = 815494.7693557739\n",
      "W_learned mean: 0.891180157661438, std: 0.0420718640089035\n",
      "H_learned mean: 0.8766128420829773, std: 0.04699648544192314\n",
      "Beta_learned mean: 0.8840655088424683, std: 0.7423057556152344\n",
      "Iteration 3100 : loss = 814333.9561634064\n",
      "W_learned mean: 0.887765645980835, std: 0.042614445090293884\n",
      "H_learned mean: 0.8736467361450195, std: 0.04796144738793373\n",
      "Beta_learned mean: 0.9039536714553833, std: 0.7572005987167358\n",
      "Iteration 3200 : loss = 849754.0766735077\n",
      "W_learned mean: 0.8854275345802307, std: 0.043398983776569366\n",
      "H_learned mean: 0.8711446523666382, std: 0.04958299174904823\n",
      "Beta_learned mean: 0.9247278571128845, std: 0.772321343421936\n",
      "Iteration 3300 : loss = 815600.0154075623\n",
      "W_learned mean: 0.8820122480392456, std: 0.04403867572546005\n",
      "H_learned mean: 0.8675786256790161, std: 0.05038318410515785\n",
      "Beta_learned mean: 0.9440364837646484, std: 0.7864237427711487\n",
      "Iteration 3400 : loss = 769112.3792648315\n",
      "W_learned mean: 0.8780125379562378, std: 0.04476623982191086\n",
      "H_learned mean: 0.8631440997123718, std: 0.0516984649002552\n",
      "Beta_learned mean: 0.9633364081382751, std: 0.8004122376441956\n",
      "Iteration 3500 : loss = 1183057.2223854065\n",
      "W_learned mean: 0.8751459121704102, std: 0.045466747134923935\n",
      "H_learned mean: 0.8605868816375732, std: 0.05303666368126869\n",
      "Beta_learned mean: 0.9830238819122314, std: 0.8147473931312561\n"
     ]
    },
    {
     "name": "stdout",
     "output_type": "stream",
     "text": [
      "Iteration 3600 : loss = 773759.0377063751\n",
      "W_learned mean: 0.8718694448471069, std: 0.046101901680231094\n",
      "H_learned mean: 0.8578380942344666, std: 0.05373775586485863\n",
      "Beta_learned mean: 1.0021835565567017, std: 0.8285974860191345\n",
      "Iteration 3700 : loss = 783132.2877426147\n",
      "W_learned mean: 0.8689343929290771, std: 0.046889424324035645\n",
      "H_learned mean: 0.8552464246749878, std: 0.054624684154987335\n",
      "Beta_learned mean: 1.0213539600372314, std: 0.8421547412872314\n",
      "Iteration 3800 : loss = 847184.4702453613\n",
      "W_learned mean: 0.8658114671707153, std: 0.047501642256975174\n",
      "H_learned mean: 0.8529070019721985, std: 0.05539713427424431\n",
      "Beta_learned mean: 1.0406162738800049, std: 0.855625569820404\n",
      "Iteration 3900 : loss = 725211.1414489746\n",
      "W_learned mean: 0.8621870875358582, std: 0.04837294667959213\n",
      "H_learned mean: 0.8499574661254883, std: 0.05605147406458855\n",
      "Beta_learned mean: 1.0597126483917236, std: 0.868880033493042\n",
      "Iteration 4000 : loss = 728784.9700336456\n",
      "W_learned mean: 0.8589996099472046, std: 0.049154412001371384\n",
      "H_learned mean: 0.8467206954956055, std: 0.05713924020528793\n",
      "Beta_learned mean: 1.0785040855407715, std: 0.8817417025566101\n",
      "Iteration 4100 : loss = 700977.8455638885\n",
      "W_learned mean: 0.8556551337242126, std: 0.049702852964401245\n",
      "H_learned mean: 0.8438035249710083, std: 0.05853709205985069\n",
      "Beta_learned mean: 1.096935749053955, std: 0.8944013714790344\n",
      "Iteration 4200 : loss = 697697.0715713501\n",
      "W_learned mean: 0.8517898917198181, std: 0.0504436232149601\n",
      "H_learned mean: 0.8411538004875183, std: 0.059059660881757736\n",
      "Beta_learned mean: 1.1154948472976685, std: 0.9073044061660767\n",
      "Iteration 4300 : loss = 1213807.9891090393\n",
      "W_learned mean: 0.8489381670951843, std: 0.05106763914227486\n",
      "H_learned mean: 0.8385096788406372, std: 0.06020043417811394\n",
      "Beta_learned mean: 1.1343647241592407, std: 0.9200747609138489\n",
      "Iteration 4400 : loss = 694830.827917099\n",
      "W_learned mean: 0.8452829122543335, std: 0.05184953659772873\n",
      "H_learned mean: 0.8356717824935913, std: 0.06024891883134842\n",
      "Beta_learned mean: 1.1521646976470947, std: 0.9321234822273254\n",
      "Iteration 4500 : loss = 684976.9269142151\n",
      "W_learned mean: 0.8411716222763062, std: 0.05278393253684044\n",
      "H_learned mean: 0.8323164582252502, std: 0.06017245352268219\n",
      "Beta_learned mean: 1.1698123216629028, std: 0.9439893960952759\n",
      "Iteration 4600 : loss = 723761.233171463\n",
      "W_learned mean: 0.8380877375602722, std: 0.05343206599354744\n",
      "H_learned mean: 0.8297863006591797, std: 0.061151303350925446\n",
      "Beta_learned mean: 1.1876139640808105, std: 0.9558553695678711\n",
      "Iteration 4700 : loss = 614197.4991874695\n",
      "W_learned mean: 0.834043025970459, std: 0.05418288707733154\n",
      "H_learned mean: 0.8258562684059143, std: 0.062336746603250504\n",
      "Beta_learned mean: 1.2051599025726318, std: 0.9674673676490784\n",
      "Iteration 4800 : loss = 617993.7971935272\n",
      "W_learned mean: 0.8306629061698914, std: 0.05473385751247406\n",
      "H_learned mean: 0.822572648525238, std: 0.063224658370018\n",
      "Beta_learned mean: 1.2227998971939087, std: 0.978922426700592\n",
      "Iteration 4900 : loss = 614783.6466255188\n",
      "W_learned mean: 0.8278607130050659, std: 0.05533123388886452\n",
      "H_learned mean: 0.8195865154266357, std: 0.06477820128202438\n",
      "Beta_learned mean: 1.2410662174224854, std: 0.990126371383667\n",
      "Iteration 5000 : loss = 609744.91182518\n",
      "W_learned mean: 0.8242813944816589, std: 0.056170687079429626\n",
      "H_learned mean: 0.8152116537094116, std: 0.06681328266859055\n",
      "Beta_learned mean: 1.2579292058944702, std: 1.0008513927459717\n",
      "Iteration 5100 : loss = 628840.1374473572\n",
      "W_learned mean: 0.8212304711341858, std: 0.05700734257698059\n",
      "H_learned mean: 0.8123533129692078, std: 0.06800960749387741\n",
      "Beta_learned mean: 1.2753080129623413, std: 1.0117912292480469\n",
      "Iteration 5200 : loss = 615480.2426891327\n",
      "W_learned mean: 0.8180682063102722, std: 0.05783873051404953\n",
      "H_learned mean: 0.8090716600418091, std: 0.06964366137981415\n",
      "Beta_learned mean: 1.2925876379013062, std: 1.0225019454956055\n",
      "Iteration 5300 : loss = 778066.4693527222\n",
      "W_learned mean: 0.8149608373641968, std: 0.058445271104574203\n",
      "H_learned mean: 0.8058068156242371, std: 0.06989123672246933\n",
      "Beta_learned mean: 1.3100860118865967, std: 1.0331757068634033\n",
      "Iteration 5400 : loss = 641618.2697181702\n",
      "W_learned mean: 0.8106011748313904, std: 0.05949122831225395\n",
      "H_learned mean: 0.8015328645706177, std: 0.07219050824642181\n",
      "Beta_learned mean: 1.326546549797058, std: 1.0432913303375244\n",
      "Iteration 5500 : loss = 706806.3291339874\n",
      "W_learned mean: 0.8066051602363586, std: 0.06057281792163849\n",
      "H_learned mean: 0.7982580065727234, std: 0.0730786919593811\n",
      "Beta_learned mean: 1.3434505462646484, std: 1.0533548593521118\n",
      "Iteration 5600 : loss = 548297.0939445496\n",
      "W_learned mean: 0.8026794195175171, std: 0.061663590371608734\n",
      "H_learned mean: 0.7947420477867126, std: 0.07487577944993973\n",
      "Beta_learned mean: 1.359739065170288, std: 1.0632582902908325\n",
      "Iteration 5700 : loss = 578762.3624858856\n",
      "W_learned mean: 0.7989285588264465, std: 0.06265759468078613\n",
      "H_learned mean: 0.7912828922271729, std: 0.07579541206359863\n",
      "Beta_learned mean: 1.3763843774795532, std: 1.0731637477874756\n",
      "Iteration 5800 : loss = 564265.8973007202\n",
      "W_learned mean: 0.795646071434021, std: 0.06353801488876343\n",
      "H_learned mean: 0.7872049808502197, std: 0.0777764767408371\n",
      "Beta_learned mean: 1.392837405204773, std: 1.0828959941864014\n",
      "Iteration 5900 : loss = 524519.4230804443\n",
      "W_learned mean: 0.7931482195854187, std: 0.06413907557725906\n",
      "H_learned mean: 0.7847121357917786, std: 0.07868100702762604\n",
      "Beta_learned mean: 1.409827470779419, std: 1.092814564704895\n",
      "Iteration 6000 : loss = 519554.82834529877\n",
      "W_learned mean: 0.7893807888031006, std: 0.06503660976886749\n",
      "H_learned mean: 0.7807538509368896, std: 0.08022153377532959\n",
      "Beta_learned mean: 1.4257094860076904, std: 1.1022578477859497\n",
      "Iteration 6100 : loss = 541850.9356517792\n",
      "W_learned mean: 0.7859255075454712, std: 0.06591132283210754\n",
      "H_learned mean: 0.7772091031074524, std: 0.08151106536388397\n",
      "Beta_learned mean: 1.4417195320129395, std: 1.1111946105957031\n",
      "Iteration 6200 : loss = 537280.696264267\n",
      "W_learned mean: 0.782133162021637, std: 0.06696529686450958\n",
      "H_learned mean: 0.7730493545532227, std: 0.08365479856729507\n",
      "Beta_learned mean: 1.4576268196105957, std: 1.1199617385864258\n",
      "Iteration 6300 : loss = 518745.51945877075\n",
      "W_learned mean: 0.7786843776702881, std: 0.06809494644403458\n",
      "H_learned mean: 0.7697710394859314, std: 0.08494405448436737\n",
      "Beta_learned mean: 1.473447561264038, std: 1.1286534070968628\n",
      "Iteration 6400 : loss = 640757.773355484\n",
      "W_learned mean: 0.7751825451850891, std: 0.06894423067569733\n",
      "H_learned mean: 0.7663843631744385, std: 0.0858229547739029\n",
      "Beta_learned mean: 1.4895672798156738, std: 1.1374280452728271\n",
      "Iteration 6500 : loss = 487743.8088283539\n",
      "W_learned mean: 0.7711814045906067, std: 0.06969855725765228\n",
      "H_learned mean: 0.7622893452644348, std: 0.08698996901512146\n",
      "Beta_learned mean: 1.5050283670425415, std: 1.1460020542144775\n",
      "Iteration 6600 : loss = 464175.77281570435\n",
      "W_learned mean: 0.7675855159759521, std: 0.0704897865653038\n",
      "H_learned mean: 0.7578608989715576, std: 0.08911079913377762\n",
      "Beta_learned mean: 1.5203962326049805, std: 1.154377818107605\n",
      "Iteration 6700 : loss = 464361.1916465759\n",
      "W_learned mean: 0.7642338275909424, std: 0.07123342156410217\n",
      "H_learned mean: 0.7535975575447083, std: 0.0908452719449997\n",
      "Beta_learned mean: 1.5358870029449463, std: 1.1625206470489502\n",
      "Iteration 6800 : loss = 461819.23663139343\n",
      "W_learned mean: 0.7609156370162964, std: 0.07212703675031662\n",
      "H_learned mean: 0.7500351667404175, std: 0.09189596772193909\n",
      "Beta_learned mean: 1.5513861179351807, std: 1.1706929206848145\n",
      "Iteration 6900 : loss = 475950.25310611725\n",
      "W_learned mean: 0.7576707005500793, std: 0.07294797152280807\n",
      "H_learned mean: 0.7467464804649353, std: 0.09315870702266693\n",
      "Beta_learned mean: 1.56681489944458, std: 1.1787742376327515\n",
      "Iteration 7000 : loss = 458014.193025589\n",
      "W_learned mean: 0.7539515495300293, std: 0.07375816255807877\n",
      "H_learned mean: 0.7425223588943481, std: 0.09496665745973587\n",
      "Beta_learned mean: 1.581560492515564, std: 1.1864922046661377\n",
      "Iteration 7100 : loss = 458881.6869497299\n",
      "W_learned mean: 0.7496680021286011, std: 0.07478075474500656\n",
      "H_learned mean: 0.7384281754493713, std: 0.09619466960430145\n",
      "Beta_learned mean: 1.5961453914642334, std: 1.19383704662323\n",
      "Iteration 7200 : loss = 465654.2903251648\n",
      "W_learned mean: 0.7456731200218201, std: 0.07583089917898178\n",
      "H_learned mean: 0.733994722366333, std: 0.09768707305192947\n",
      "Beta_learned mean: 1.6107583045959473, std: 1.201015830039978\n"
     ]
    },
    {
     "name": "stdout",
     "output_type": "stream",
     "text": [
      "Iteration 7300 : loss = 445627.8185491562\n",
      "W_learned mean: 0.7417744994163513, std: 0.07676529139280319\n",
      "H_learned mean: 0.7303535342216492, std: 0.09893244504928589\n",
      "Beta_learned mean: 1.6249922513961792, std: 1.2078155279159546\n",
      "Iteration 7400 : loss = 469718.8178806305\n",
      "W_learned mean: 0.7375937104225159, std: 0.07767283916473389\n",
      "H_learned mean: 0.7260681986808777, std: 0.0997031107544899\n",
      "Beta_learned mean: 1.639366865158081, std: 1.2148793935775757\n",
      "Iteration 7500 : loss = 463188.0917491913\n",
      "W_learned mean: 0.7338919639587402, std: 0.07843488454818726\n",
      "H_learned mean: 0.7229702472686768, std: 0.10019845515489578\n",
      "Beta_learned mean: 1.6542280912399292, std: 1.2221276760101318\n",
      "Iteration 7600 : loss = 425880.0463027954\n",
      "W_learned mean: 0.7299001812934875, std: 0.07959768176078796\n",
      "H_learned mean: 0.7189646363258362, std: 0.10165989398956299\n",
      "Beta_learned mean: 1.6679927110671997, std: 1.228439211845398\n",
      "Iteration 7700 : loss = 415811.6167039871\n",
      "W_learned mean: 0.7262371182441711, std: 0.08044717460870743\n",
      "H_learned mean: 0.7146576046943665, std: 0.10290145128965378\n",
      "Beta_learned mean: 1.6819356679916382, std: 1.2350231409072876\n",
      "Iteration 7800 : loss = 428937.3181877136\n",
      "W_learned mean: 0.7221246361732483, std: 0.08130589872598648\n",
      "H_learned mean: 0.7101759910583496, std: 0.10387138277292252\n",
      "Beta_learned mean: 1.695966124534607, std: 1.2416608333587646\n",
      "Iteration 7900 : loss = 412946.56214237213\n",
      "W_learned mean: 0.7188529372215271, std: 0.0819871574640274\n",
      "H_learned mean: 0.7062622904777527, std: 0.10537953674793243\n",
      "Beta_learned mean: 1.7098268270492554, std: 1.2481176853179932\n",
      "Iteration 8000 : loss = 434006.51130485535\n",
      "W_learned mean: 0.7149019241333008, std: 0.08294947445392609\n",
      "H_learned mean: 0.7018235921859741, std: 0.10677140206098557\n",
      "Beta_learned mean: 1.723344087600708, std: 1.2541172504425049\n",
      "Iteration 8100 : loss = 409022.0807914734\n",
      "W_learned mean: 0.7105787396430969, std: 0.08373290300369263\n",
      "H_learned mean: 0.6971899271011353, std: 0.10787258297204971\n",
      "Beta_learned mean: 1.7361854314804077, std: 1.2601467370986938\n",
      "Iteration 8200 : loss = 421722.2970752716\n",
      "W_learned mean: 0.7061690092086792, std: 0.08474153280258179\n",
      "H_learned mean: 0.6930354237556458, std: 0.10893251746892929\n",
      "Beta_learned mean: 1.7491494417190552, std: 1.2659233808517456\n",
      "Iteration 8300 : loss = 403733.94435310364\n",
      "W_learned mean: 0.7025432586669922, std: 0.08546163886785507\n",
      "H_learned mean: 0.688895046710968, std: 0.11044417321681976\n",
      "Beta_learned mean: 1.762213945388794, std: 1.271479845046997\n",
      "Iteration 8400 : loss = 433050.8758459091\n",
      "W_learned mean: 0.6987482309341431, std: 0.08628574758768082\n",
      "H_learned mean: 0.6846558451652527, std: 0.11181159317493439\n",
      "Beta_learned mean: 1.7748433351516724, std: 1.2768011093139648\n",
      "Iteration 8500 : loss = 383245.1002817154\n",
      "W_learned mean: 0.6950052976608276, std: 0.08726917952299118\n",
      "H_learned mean: 0.6804448962211609, std: 0.113675557076931\n",
      "Beta_learned mean: 1.7875484228134155, std: 1.2821011543273926\n",
      "Iteration 8600 : loss = 391848.3227157593\n",
      "W_learned mean: 0.6914486885070801, std: 0.08796060085296631\n",
      "H_learned mean: 0.6763349175453186, std: 0.11498303711414337\n",
      "Beta_learned mean: 1.7997443675994873, std: 1.287241816520691\n",
      "Iteration 8700 : loss = 376186.3142738342\n",
      "W_learned mean: 0.6877564787864685, std: 0.08882008492946625\n",
      "H_learned mean: 0.6728782653808594, std: 0.11601220816373825\n",
      "Beta_learned mean: 1.8123736381530762, std: 1.292341947555542\n",
      "Iteration 8800 : loss = 385505.105922699\n",
      "W_learned mean: 0.6830754280090332, std: 0.0895262286067009\n",
      "H_learned mean: 0.6679419279098511, std: 0.11697481572628021\n",
      "Beta_learned mean: 1.823750615119934, std: 1.2973806858062744\n",
      "Iteration 8900 : loss = 378462.7939500809\n",
      "W_learned mean: 0.6789941191673279, std: 0.09021949768066406\n",
      "H_learned mean: 0.6637758612632751, std: 0.11807006597518921\n",
      "Beta_learned mean: 1.8351919651031494, std: 1.3018485307693481\n",
      "Iteration 9000 : loss = 373726.94865465164\n",
      "W_learned mean: 0.6750377416610718, std: 0.09103210270404816\n",
      "H_learned mean: 0.6590607762336731, std: 0.12009457498788834\n",
      "Beta_learned mean: 1.8462220430374146, std: 1.3060972690582275\n",
      "Iteration 9100 : loss = 389999.4893321991\n",
      "W_learned mean: 0.6712512373924255, std: 0.09178543090820312\n",
      "H_learned mean: 0.6551706790924072, std: 0.1210966408252716\n",
      "Beta_learned mean: 1.8576703071594238, std: 1.3106452226638794\n",
      "Iteration 9200 : loss = 356137.5608201027\n",
      "W_learned mean: 0.6676157116889954, std: 0.09263051301240921\n",
      "H_learned mean: 0.6510985493659973, std: 0.12255406379699707\n",
      "Beta_learned mean: 1.8690358400344849, std: 1.3151518106460571\n",
      "Iteration 9300 : loss = 354937.33913707733\n",
      "W_learned mean: 0.6631509065628052, std: 0.09337064623832703\n",
      "H_learned mean: 0.6464325189590454, std: 0.12302867323160172\n",
      "Beta_learned mean: 1.8798789978027344, std: 1.3197513818740845\n",
      "Iteration 9400 : loss = 394948.9182472229\n",
      "W_learned mean: 0.6594027280807495, std: 0.09407970309257507\n",
      "H_learned mean: 0.642549991607666, std: 0.124224953353405\n",
      "Beta_learned mean: 1.8911283016204834, std: 1.3240318298339844\n",
      "Iteration 9500 : loss = 359531.6290740967\n",
      "W_learned mean: 0.6548960208892822, std: 0.09489861130714417\n",
      "H_learned mean: 0.6380787491798401, std: 0.1250307261943817\n",
      "Beta_learned mean: 1.9015870094299316, std: 1.3280640840530396\n",
      "Iteration 9600 : loss = 464735.77387809753\n",
      "W_learned mean: 0.6505595445632935, std: 0.09570705145597458\n",
      "H_learned mean: 0.6336307525634766, std: 0.12618163228034973\n",
      "Beta_learned mean: 1.911888837814331, std: 1.3318980932235718\n",
      "Iteration 9700 : loss = 350783.1657400131\n",
      "W_learned mean: 0.6457571387290955, std: 0.09644097834825516\n",
      "H_learned mean: 0.6287122964859009, std: 0.12671835720539093\n",
      "Beta_learned mean: 1.92185640335083, std: 1.3357220888137817\n",
      "Iteration 9800 : loss = 346942.462018013\n",
      "W_learned mean: 0.6416895389556885, std: 0.09707838296890259\n",
      "H_learned mean: 0.6242614984512329, std: 0.12764407694339752\n",
      "Beta_learned mean: 1.9318625926971436, std: 1.3395410776138306\n",
      "Iteration 9900 : loss = 336401.52407097816\n",
      "W_learned mean: 0.6378585696220398, std: 0.0978839099407196\n",
      "H_learned mean: 0.6202049255371094, std: 0.12881304323673248\n",
      "Beta_learned mean: 1.9420377016067505, std: 1.3431594371795654\n"
     ]
    },
    {
     "data": {
      "image/png": "[encoded data removed]",
      "text/plain": [
       "<Figure size 640x480 with 1 Axes>"
      ]
     },
     "metadata": {},
     "output_type": "display_data"
    }
   ],
   "source": [
    "pyro.clear_param_store()\n",
    "W_learned, H_learned, Beta_learned = learn()"
   ]
  },
  {
   "cell_type": "code",
   "execution_count": 126,
   "id": "413b4872",
   "metadata": {},
   "outputs": [
    {
     "data": {
      "image/png": "[encoded data removed]",
      "text/plain": [
       "<Figure size 640x480 with 1 Axes>"
      ]
     },
     "metadata": {},
     "output_type": "display_data"
    }
   ],
   "source": [
    "\n",
    "# Create a batch label for each sample\n",
    "num_samples = data.shape[0]  # Number of samples in the simulated data\n",
    "num_batches = 5  # As defined in simulate_data\n",
    "#batch_labels = np.repeat(range(num_batches), num_samples / num_batches)\n",
    "\n",
    "# Apply PCA and reduce the data to 2 principal components for visualization\n",
    "pca = PCA(n_components=2)\n",
    "principalComponents = pca.fit_transform(data.numpy())\n",
    "\n",
    "# Create a DataFrame with the principal components and the batch information\n",
    "principalDf = pd.DataFrame(data=principalComponents, columns=['PC1', 'PC2'])\n",
    "principalDf['Batch'] = batch_labels.T\n",
    "\n",
    "# Plotting the PCA\n",
    "fig, ax = plt.subplots()\n",
    "\n",
    "# Generate a color map for the number of batches\n",
    "colors = plt.cm.jet(np.linspace(0, 1, num_batches))\n",
    "\n",
    "# Color by batch\n",
    "for batch, color in zip(range(num_batches), colors):\n",
    "    idx = principalDf['Batch'] == batch\n",
    "    ax.scatter(principalDf.loc[idx, 'PC1'], principalDf.loc[idx, 'PC2'], label=f'Batch {batch+1}', color=color)\n",
    "\n",
    "plt.title('PCA by Batch')\n",
    "plt.xlabel('Principal Component 1')\n",
    "plt.ylabel('Principal Component 2')\n",
    "plt.legend()\n",
    "plt.show()"
   ]
  },
  {
   "cell_type": "code",
   "execution_count": 158,
   "id": "780d584a",
   "metadata": {},
   "outputs": [
    {
     "data": {
      "image/png": "[encoded data removed]",
      "text/plain": [
       "<Figure size 640x480 with 1 Axes>"
      ]
     },
     "metadata": {},
     "output_type": "display_data"
    }
   ],
   "source": [
    "new_data = (torch.matmul(W_learned,H_learned)) \n",
    "\n",
    "# Create a batch label for each sample\n",
    "num_samples = data.shape[0]  # Number of samples in the simulated data\n",
    "num_batches = 5  # As defined in simulate_data\n",
    "#batch_labels = np.repeat(range(num_batches), num_samples / num_batches)\n",
    "\n",
    "# Apply PCA and reduce the data to 2 principal components for visualization\n",
    "pca = PCA(n_components=2)\n",
    "principalComponents = pca.fit_transform(new_data.detach().numpy())\n",
    "\n",
    "# Create a DataFrame with the principal components and the batch information\n",
    "principalDf = pd.DataFrame(data=principalComponents, columns=['PC1', 'PC2'])\n",
    "principalDf['Batch'] = batch_labels.T\n",
    "\n",
    "# Plotting the PCA\n",
    "fig, ax = plt.subplots()\n",
    "\n",
    "# Generate a color map for the number of batches\n",
    "colors = plt.cm.jet(np.linspace(0, 1, num_batches))\n",
    "\n",
    "# Color by batch\n",
    "for batch, color in zip(range(num_batches), colors):\n",
    "    idx = principalDf['Batch'] == batch\n",
    "    ax.scatter(principalDf.loc[idx, 'PC1'], principalDf.loc[idx, 'PC2'], label=f'Batch {batch+1}', color=color)\n",
    "\n",
    "plt.title('PCA by Batch')\n",
    "plt.xlabel('Principal Component 1')\n",
    "plt.ylabel('Principal Component 2')\n",
    "plt.legend()\n",
    "plt.show()"
   ]
  },
  {
   "cell_type": "code",
   "execution_count": 155,
   "id": "25e54a44",
   "metadata": {},
   "outputs": [
    {
     "data": {
      "text/plain": [
       "tensor([[17.1797,  0.4586,  7.4811,  ..., 19.7838, 16.7719, 12.6041],\n",
       "        [16.0106,  0.4560,  7.2518,  ..., 22.7723, 16.2204, 11.8306],\n",
       "        [17.7627,  0.4694,  7.9845,  ..., 22.5525, 17.6326, 12.0970],\n",
       "        ...,\n",
       "        [ 0.4554,  0.4551,  0.4334,  ..., 21.6336,  0.4438,  6.7217],\n",
       "        [ 0.4554,  0.4496,  0.4188,  ..., 19.2959,  0.4181,  6.6931],\n",
       "        [ 0.4425,  0.4497,  0.4780,  ..., 21.2774,  0.4358,  7.5945]],\n",
       "       grad_fn=<ExpBackward0>)"
      ]
     },
     "execution_count": 155,
     "metadata": {},
     "output_type": "execute_result"
    }
   ],
   "source": [
    "torch.exp(new_data + Beta_learned)"
   ]
  },
  {
   "cell_type": "code",
   "execution_count": 154,
   "id": "6f7e3941",
   "metadata": {},
   "outputs": [
    {
     "data": {
      "text/plain": [
       "tensor([[1.9573e+11, 1.0000e+00, 3.2690e+06,  ..., 2.9049e+13, 1.4463e+12,\n",
       "         1.3188e+09],\n",
       "        [7.2005e+10, 1.0000e+00, 1.2026e+06,  ..., 2.9049e+13, 1.4463e+12,\n",
       "         4.8517e+08],\n",
       "        [1.9573e+11, 1.0000e+00, 3.2690e+06,  ..., 2.9049e+13, 1.4463e+12,\n",
       "         4.8517e+08],\n",
       "        ...,\n",
       "        [1.0000e+00, 1.0000e+00, 1.0000e+00,  ..., 1.0686e+13, 1.0000e+00,\n",
       "         4.4241e+05],\n",
       "        [1.0000e+00, 1.0000e+00, 1.0000e+00,  ..., 3.9313e+12, 1.0000e+00,\n",
       "         4.4241e+05],\n",
       "        [1.0000e+00, 1.0000e+00, 1.0000e+00,  ..., 1.0686e+13, 1.0000e+00,\n",
       "         1.2026e+06]])"
      ]
     },
     "execution_count": 154,
     "metadata": {},
     "output_type": "execute_result"
    }
   ],
   "source": [
    "torch.exp(data)"
   ]
  },
  {
   "cell_type": "code",
   "execution_count": 77,
   "id": "824421d1",
   "metadata": {},
   "outputs": [
    {
     "data": {
      "text/plain": [
       "tensor([[26.,  0., 15.,  ..., 31., 28., 21.],\n",
       "        [25.,  0., 14.,  ..., 31., 28., 20.],\n",
       "        [26.,  0., 15.,  ..., 31., 28., 20.],\n",
       "        ...,\n",
       "        [ 0.,  0.,  0.,  ..., 30.,  0., 13.],\n",
       "        [ 0.,  0.,  0.,  ..., 29.,  0., 13.],\n",
       "        [ 0.,  0.,  0.,  ..., 30.,  0., 14.]])"
      ]
     },
     "execution_count": 77,
     "metadata": {},
     "output_type": "execute_result"
    }
   ],
   "source": [
    "data"
   ]
  },
  {
   "cell_type": "code",
   "execution_count": null,
   "id": "fe67dd19",
   "metadata": {},
   "outputs": [],
   "source": []
  },
  {
   "cell_type": "code",
   "execution_count": 131,
   "id": "a0df7e00",
   "metadata": {},
   "outputs": [
    {
     "data": {
      "text/plain": [
       "tensor([[0., 0., 0.,  ..., 0., 0., 0.],\n",
       "        [0., 0., 0.,  ..., 0., 0., 0.],\n",
       "        [0., 0., 0.,  ..., 0., 0., 0.],\n",
       "        ...,\n",
       "        [0., 0., 0.,  ..., 0., 0., 0.],\n",
       "        [0., 0., 0.,  ..., 0., 0., 0.],\n",
       "        [0., 0., 0.,  ..., 0., 0., 0.]], grad_fn=<MmBackward0>)"
      ]
     },
     "execution_count": 131,
     "metadata": {},
     "output_type": "execute_result"
    }
   ],
   "source": [
    "new_data = (torch.matmul(W_learned,H_learned)) \n",
    "new_data"
   ]
  },
  {
   "cell_type": "code",
   "execution_count": 23,
   "id": "ee14a62e",
   "metadata": {},
   "outputs": [
    {
     "data": {
      "text/plain": [
       "(1083, 80)"
      ]
     },
     "execution_count": 23,
     "metadata": {},
     "output_type": "execute_result"
    }
   ],
   "source": []
  },
  {
   "cell_type": "code",
   "execution_count": 26,
   "id": "c28ecab7",
   "metadata": {},
   "outputs": [
    {
     "data": {
      "text/plain": [
       "torch.Size([1083, 35])"
      ]
     },
     "execution_count": 26,
     "metadata": {},
     "output_type": "execute_result"
    }
   ],
   "source": []
  },
  {
   "cell_type": "code",
   "execution_count": 27,
   "id": "438b186d",
   "metadata": {},
   "outputs": [
    {
     "data": {
      "text/plain": [
       "tensor([[25.6907,  0.0000, 15.2084,  ..., 30.7844, 28.2231, 20.5496],\n",
       "        [25.1415,  0.0000, 13.9826,  ..., 30.6141, 28.1570, 20.0306],\n",
       "        [25.6284,  0.0000, 15.2096,  ..., 30.8036, 28.1498, 19.7547],\n",
       "        ...,\n",
       "        [ 0.0000,  0.0000,  0.0000,  ..., 29.5578,  0.0000, 12.9660],\n",
       "        [ 0.0000,  0.0000,  0.0000,  ..., 29.3405,  0.0000, 13.2660],\n",
       "        [ 0.0000,  0.0000,  0.0000,  ..., 29.5661,  0.0000, 14.2465]])"
      ]
     },
     "execution_count": 27,
     "metadata": {},
     "output_type": "execute_result"
    }
   ],
   "source": []
  },
  {
   "cell_type": "code",
   "execution_count": 34,
   "id": "df13978a",
   "metadata": {},
   "outputs": [
    {
     "name": "stdout",
     "output_type": "stream",
     "text": [
      "Contains negative infinity: False\n"
     ]
    }
   ],
   "source": []
  },
  {
   "cell_type": "code",
   "execution_count": 113,
   "id": "ac03ad1f",
   "metadata": {},
   "outputs": [
    {
     "data": {
      "text/plain": [
       "tensor([[0., 0., 0., 0., 0., 0., 0., 0., 0., 0., 0., 0., 0., 0., 0., 0., 0., 0., 0., 0., 0., 0., 0., 0.,\n",
       "         0., 0., 0., 0., 0., 0., 0., 0., 0., 0., 0.]], requires_grad=True)"
      ]
     },
     "execution_count": 113,
     "metadata": {},
     "output_type": "execute_result"
    }
   ],
   "source": [
    "H_learned"
   ]
  },
  {
   "cell_type": "code",
   "execution_count": 128,
   "id": "cc96dd06",
   "metadata": {},
   "outputs": [
    {
     "data": {
      "text/plain": [
       "tensor([[0., 0., 0.,  ..., 0., 0., 0.],\n",
       "        [0., 0., 0.,  ..., 0., 0., 0.],\n",
       "        [0., 0., 0.,  ..., 0., 0., 0.],\n",
       "        ...,\n",
       "        [0., 0., 0.,  ..., 0., 0., 0.],\n",
       "        [0., 0., 0.,  ..., 0., 0., 0.],\n",
       "        [0., 0., 0.,  ..., 0., 0., 0.]], grad_fn=<MmBackward0>)"
      ]
     },
     "execution_count": 128,
     "metadata": {},
     "output_type": "execute_result"
    }
   ],
   "source": [
    "new_data"
   ]
  },
  {
   "cell_type": "code",
   "execution_count": 135,
   "id": "2f52a18b",
   "metadata": {},
   "outputs": [
    {
     "data": {
      "text/plain": [
       "tensor([[ 2.9910, -0.6842,  2.4141,  ...,  3.2414,  3.0581,  2.8344],\n",
       "        [ 2.9619, -0.6874,  2.4087,  ...,  3.2191,  3.1154,  2.7513],\n",
       "        [ 3.0292, -0.7032,  2.4850,  ...,  3.2828,  3.1215,  2.7384],\n",
       "        ...,\n",
       "        [-0.6842, -0.7120, -0.7683,  ...,  3.1884, -0.7060,  2.1991],\n",
       "        [-0.6606, -0.7516, -0.6520,  ...,  3.2024, -0.7741,  2.2634],\n",
       "        [-0.7033, -0.7968, -0.7323,  ...,  3.2250, -0.7886,  2.3532]],\n",
       "       requires_grad=True)"
      ]
     },
     "execution_count": 135,
     "metadata": {},
     "output_type": "execute_result"
    }
   ],
   "source": [
    "Beta_learned"
   ]
  },
  {
   "cell_type": "code",
   "execution_count": null,
   "id": "ac8e371c",
   "metadata": {},
   "outputs": [],
   "source": []
  }
 ],
 "metadata": {
  "kernelspec": {
   "display_name": "Python 3 (ipykernel)",
   "language": "python",
   "name": "python3"
  },
  "language_info": {
   "codemirror_mode": {
    "name": "ipython",
    "version": 3
   },
   "file_extension": ".py",
   "mimetype": "text/x-python",
   "name": "python",
   "nbconvert_exporter": "python",
   "pygments_lexer": "ipython3",
   "version": "3.10.13"
  }
 },
 "nbformat": 4,
 "nbformat_minor": 5
}
